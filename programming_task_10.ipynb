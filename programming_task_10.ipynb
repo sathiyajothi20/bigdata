{
 "cells": [
  {
   "cell_type": "markdown",
   "id": "f9daf588",
   "metadata": {},
   "source": [
    "# 1. Write a Python program to find sum of elements in list?"
   ]
  },
  {
   "cell_type": "code",
   "execution_count": 1,
   "id": "2793e7b6",
   "metadata": {},
   "outputs": [
    {
     "name": "stdout",
     "output_type": "stream",
     "text": [
      "312\n"
     ]
    }
   ],
   "source": [
    "l = [232, 41,5, 16, 5, 6, 7]\n",
    "\n",
    "total = 0\n",
    "for i in l:\n",
    "    total += i\n",
    "    \n",
    "print(total)"
   ]
  },
  {
   "cell_type": "markdown",
   "id": "55bdc8ac",
   "metadata": {},
   "source": [
    "# 2. Write a Python program to  Multiply all numbers in the list?"
   ]
  },
  {
   "cell_type": "code",
   "execution_count": 2,
   "id": "1679004e",
   "metadata": {},
   "outputs": [
    {
     "name": "stdout",
     "output_type": "stream",
     "text": [
      "314160\n"
     ]
    }
   ],
   "source": [
    "l = [22, 4, 17, 5, 6, 7]\n",
    "\n",
    "mul = 1\n",
    "for i in l:\n",
    "    mul *= i\n",
    "    \n",
    "print(mul)"
   ]
  },
  {
   "cell_type": "markdown",
   "id": "40537d0e",
   "metadata": {},
   "source": [
    "# 3. Write a Python program to find smallest number in a list?"
   ]
  },
  {
   "cell_type": "code",
   "execution_count": 3,
   "id": "fd1d75a3",
   "metadata": {},
   "outputs": [
    {
     "name": "stdout",
     "output_type": "stream",
     "text": [
      "-7123\n"
     ]
    }
   ],
   "source": [
    "l = [22, 10, 11, 1235, 46, -7123]\n",
    "\n",
    "minimum = l[0]\n",
    "for i in l:\n",
    "    if i < minimum:\n",
    "        minimum = i\n",
    "        \n",
    "print(minimum)"
   ]
  },
  {
   "cell_type": "markdown",
   "id": "75c3337d",
   "metadata": {},
   "source": [
    "# 4. Write a Python program to find largest number in a list?\n"
   ]
  },
  {
   "cell_type": "code",
   "execution_count": 4,
   "id": "28ff26a6",
   "metadata": {},
   "outputs": [
    {
     "name": "stdout",
     "output_type": "stream",
     "text": [
      "12235\n"
     ]
    }
   ],
   "source": [
    "l = [12, 0, 21, 12235, 6, -7123]\n",
    "\n",
    "maximum = l[0]\n",
    "for i in l:\n",
    "    if i > maximum:\n",
    "        maximum = i\n",
    "        \n",
    "print(maximum)"
   ]
  },
  {
   "cell_type": "markdown",
   "id": "4d4abb6c",
   "metadata": {},
   "source": [
    "# 5. Write a Python program to find second largest number in a list?\n"
   ]
  },
  {
   "cell_type": "code",
   "execution_count": 5,
   "id": "dd641778",
   "metadata": {},
   "outputs": [
    {
     "name": "stdout",
     "output_type": "stream",
     "text": [
      "Second largest number: 21\n"
     ]
    }
   ],
   "source": [
    "l = [12, 0, 21, 12235, 6, -7123]\n",
    "l.sort(reverse=True)\n",
    "print(\"Second largest number:\", l[1])"
   ]
  },
  {
   "cell_type": "markdown",
   "id": "d16009b4",
   "metadata": {},
   "source": [
    "# 6. Write a Python program to find N largest elements from a list?"
   ]
  },
  {
   "cell_type": "code",
   "execution_count": 6,
   "id": "966fcfe0",
   "metadata": {},
   "outputs": [],
   "source": [
    "def findLarge(lst, n):\n",
    "    \n",
    "    lst.sort(reverse = True)\n",
    "    return lst[n-1]"
   ]
  },
  {
   "cell_type": "code",
   "execution_count": 7,
   "id": "7e1329b0",
   "metadata": {},
   "outputs": [
    {
     "data": {
      "text/plain": [
       "21"
      ]
     },
     "execution_count": 7,
     "metadata": {},
     "output_type": "execute_result"
    }
   ],
   "source": [
    "# 2nd Largest Element\n",
    "\n",
    "l = [12, 10, 21, 1235, 6, -7123]\n",
    "findLarge(l, 2)"
   ]
  },
  {
   "cell_type": "code",
   "execution_count": 8,
   "id": "7a79b21a",
   "metadata": {},
   "outputs": [
    {
     "data": {
      "text/plain": [
       "6"
      ]
     },
     "execution_count": 8,
     "metadata": {},
     "output_type": "execute_result"
    }
   ],
   "source": [
    "# 2nd Largest Element\n",
    "\n",
    "l = [2, 0, 1, 1235, 6, -7123]\n",
    "findLarge(l, 2)"
   ]
  },
  {
   "cell_type": "code",
   "execution_count": 9,
   "id": "5cb567de",
   "metadata": {},
   "outputs": [
    {
     "data": {
      "text/plain": [
       "1"
      ]
     },
     "execution_count": 9,
     "metadata": {},
     "output_type": "execute_result"
    }
   ],
   "source": [
    "# 4th Largest Element\n",
    "\n",
    "l = [2, 0, 1, 1235, 6, -7123]\n",
    "findLarge(l, 4)"
   ]
  },
  {
   "cell_type": "markdown",
   "id": "f75ac9d4",
   "metadata": {},
   "source": [
    "# 7. Write a Python program to print even numbers in a list?"
   ]
  },
  {
   "cell_type": "code",
   "execution_count": 10,
   "id": "6d535d9d",
   "metadata": {},
   "outputs": [
    {
     "data": {
      "text/plain": [
       "[2, 0, 6, 54, 12, -42]"
      ]
     },
     "execution_count": 10,
     "metadata": {},
     "output_type": "execute_result"
    }
   ],
   "source": [
    "l = [2, 0, 1, 1235, 6, -7123, 21, 54, 12, -23, -42]\n",
    "\n",
    "[ i for i in l if i%2 == 0]"
   ]
  },
  {
   "cell_type": "markdown",
   "id": "ed424ca1",
   "metadata": {},
   "source": [
    "# 8. Write a Python program to print odd numbers in a List?"
   ]
  },
  {
   "cell_type": "code",
   "execution_count": 11,
   "id": "ee48fb08",
   "metadata": {},
   "outputs": [
    {
     "data": {
      "text/plain": [
       "[1, 1235, -7123, 21, -23]"
      ]
     },
     "execution_count": 11,
     "metadata": {},
     "output_type": "execute_result"
    }
   ],
   "source": [
    "l = [2, 0, 1, 1235, 6, -7123, 21, 54, 12, -23, -42]\n",
    "\n",
    "[ i for i in l if i%2 == 1]"
   ]
  },
  {
   "cell_type": "markdown",
   "id": "f6bde493",
   "metadata": {},
   "source": [
    "# 9. Write a Python program to Remove empty List from List?"
   ]
  },
  {
   "cell_type": "code",
   "execution_count": 12,
   "id": "7bcb9d89",
   "metadata": {},
   "outputs": [
    {
     "data": {
      "text/plain": [
       "[12, 31, [1, 2, -23], [1], [123.23], 2, 321]"
      ]
     },
     "execution_count": 12,
     "metadata": {},
     "output_type": "execute_result"
    }
   ],
   "source": [
    "l = [[], 12, 31, [1,2, -23] , [1], [], [123.23], [], 2, 321]\n",
    "\n",
    "result = []\n",
    "for i in l:\n",
    "    if type(i) == list:\n",
    "        if len(i) != 0:\n",
    "            result.append(i)\n",
    "    else:\n",
    "        result.append(i)\n",
    "\n",
    "result\n",
    "            \n",
    "            "
   ]
  },
  {
   "cell_type": "markdown",
   "id": "a96cd53c",
   "metadata": {},
   "source": [
    "# 10. Write a Python program to Cloning or Copying a list?"
   ]
  },
  {
   "cell_type": "code",
   "execution_count": 13,
   "id": "410d532c",
   "metadata": {},
   "outputs": [
    {
     "name": "stdout",
     "output_type": "stream",
     "text": [
      "[2, 1, 31, 3, 412, 3, 4667, [2, 3, 1]]\n"
     ]
    }
   ],
   "source": [
    "list1 = [2,1, 31, 3, 412, 3, 4667, [2,3,1]]\n",
    "list2 = []\n",
    "\n",
    "for i in list1:\n",
    "    list2.append(i)\n",
    "    \n",
    "print(list2)"
   ]
  },
  {
   "cell_type": "code",
   "execution_count": 14,
   "id": "2c78b3cc",
   "metadata": {},
   "outputs": [],
   "source": [
    "### 11. Write a Python program to Count occurrences of an element in a list?"
   ]
  },
  {
   "cell_type": "code",
   "execution_count": 15,
   "id": "95035449",
   "metadata": {},
   "outputs": [],
   "source": [
    "l = [134,12,12, 33, 24, 1,2,2, 7, 8, 6,6,2,1]\n",
    "\n",
    "def occurrences(lst, element):\n",
    "    count = 0\n",
    "    for i in lst:\n",
    "        if i == element:\n",
    "            count += 1\n",
    "            \n",
    "    return count"
   ]
  },
  {
   "cell_type": "code",
   "execution_count": 16,
   "id": "37f4ea7c",
   "metadata": {},
   "outputs": [
    {
     "data": {
      "text/plain": [
       "2"
      ]
     },
     "execution_count": 16,
     "metadata": {},
     "output_type": "execute_result"
    }
   ],
   "source": [
    "occurrences(l, 1)"
   ]
  },
  {
   "cell_type": "code",
   "execution_count": null,
   "id": "f613cfa5",
   "metadata": {},
   "outputs": [],
   "source": []
  }
 ],
 "metadata": {
  "kernelspec": {
   "display_name": "Python 3 (ipykernel)",
   "language": "python",
   "name": "python3"
  },
  "language_info": {
   "codemirror_mode": {
    "name": "ipython",
    "version": 3
   },
   "file_extension": ".py",
   "mimetype": "text/x-python",
   "name": "python",
   "nbconvert_exporter": "python",
   "pygments_lexer": "ipython3",
   "version": "3.9.12"
  }
 },
 "nbformat": 4,
 "nbformat_minor": 5
}
